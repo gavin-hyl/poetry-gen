{
 "cells": [
  {
   "cell_type": "code",
   "execution_count": 1,
   "metadata": {},
   "outputs": [
    {
     "name": "stdout",
     "output_type": "stream",
     "text": [
      "Start downloading...\n",
      "Complete\n",
      "Start downloading...\n",
      "Complete\n",
      "Start downloading...\n",
      "Complete\n",
      "Start downloading...\n",
      "Complete\n"
     ]
    }
   ],
   "source": [
    "import requests\n",
    "import os\n",
    "import re\n",
    "import random\n",
    "import urllib.request\n",
    "\n",
    "url_dict = {\n",
    "    'shakespeare.txt': 'https://caltech-cs155.s3.us-east-2.amazonaws.com/miniprojects/project3/data/shakespeare.txt',\n",
    "    'spenser.txt': 'https://caltech-cs155.s3.us-east-2.amazonaws.com/miniprojects/project3/data/spenser.txt',\n",
    "    'syllable_dict.txt' : 'https://caltech-cs155.s3.us-east-2.amazonaws.com/miniprojects/project3/data/Syllable_dictionary.txt',\n",
    "    'about_syllable_dict.docx' : 'https://caltech-cs155.s3.us-east-2.amazonaws.com/miniprojects/project3/data/syllable_dict_explanation.docx'\n",
    "}\n",
    "\n",
    "def download_file(file_path):\n",
    "    url = url_dict[file_path]\n",
    "    print('Start downloading...')\n",
    "    with requests.get(url, stream=True) as r:\n",
    "        r.raise_for_status()\n",
    "        with open(file_path, 'wb') as f:\n",
    "            for chunk in r.iter_content(chunk_size=1024 * 1024 * 1024):\n",
    "                f.write(chunk)\n",
    "    print('Complete')\n",
    "\n",
    "download_file('shakespeare.txt')\n",
    "download_file('spenser.txt')\n",
    "download_file('syllable_dict.txt')\n",
    "download_file('about_syllable_dict.docx')"
   ]
  },
  {
   "cell_type": "code",
   "execution_count": 2,
   "metadata": {},
   "outputs": [],
   "source": [
    "def parse_reverse_line_w_rhyme(text):\n",
    "    lines = [line.split() for line in text.split('\\n') if line.split()]\n",
    "\n",
    "    obs_counter = 0\n",
    "    obs = []\n",
    "    obs_map = {}\n",
    "    rhyme_pairs = []\n",
    "\n",
    "    #99 and 126 do not strictly follow format\n",
    "    for i in range(154):\n",
    "        if i+1 == 99 or i+1 == 126: continue\n",
    "        sonnet_start = i * 15\n",
    "        if 99 < i+1 < 126: sonnet_start += 1\n",
    "        elif i+1 > 126: sonnet_start -= 1\n",
    "        for j in range(3):\n",
    "            rhyme_pairs.append([lines[sonnet_start+1+j*4][-1], lines[sonnet_start+1+j*4+2][-1]])\n",
    "            rhyme_pairs.append([lines[sonnet_start+1+j*4+1][-1], lines[sonnet_start+1+j*4+3][-1]])\n",
    "            for k in range(4):\n",
    "                obs_elem = []\n",
    "                line = lines[sonnet_start+1+j*4+k]\n",
    "                for word in line:\n",
    "                    word = re.sub(r'[^\\w\\']', '', word).lower()\n",
    "                    if word not in obs_map:\n",
    "                        obs_map[word] = obs_counter\n",
    "                        obs_counter += 1\n",
    "                    obs_elem.insert(0, obs_map[word])\n",
    "                obs.append(obs_elem)\n",
    "        rhyme_pairs.append([lines[sonnet_start+13][-1], lines[sonnet_start+14][-1]])\n",
    "        for k in range(2):\n",
    "            obs_elem = []\n",
    "            line = lines[sonnet_start+13+k]\n",
    "            for word in line:\n",
    "                word = re.sub(r'[^\\w\\']', '', word).lower()\n",
    "                if word not in obs_map:\n",
    "                    obs_map[word] = obs_counter\n",
    "                    obs_counter += 1\n",
    "                obs_elem.insert(0, obs_map[word])\n",
    "            obs.append(obs_elem)\n",
    "    rhyme_pairs = [[re.sub(r'[^\\w\\']', '', w).lower() for w in p] for p in rhyme_pairs]\n",
    "    \n",
    "    return obs, obs_map, rhyme_pairs"
   ]
  },
  {
   "cell_type": "code",
   "execution_count": 3,
   "metadata": {},
   "outputs": [
    {
     "ename": "KeyboardInterrupt",
     "evalue": "",
     "output_type": "error",
     "traceback": [
      "\u001b[1;31m---------------------------------------------------------------------------\u001b[0m",
      "\u001b[1;31mKeyboardInterrupt\u001b[0m                         Traceback (most recent call last)",
      "Cell \u001b[1;32mIn[3], line 1\u001b[0m\n\u001b[1;32m----> 1\u001b[0m \u001b[38;5;28;01mfrom\u001b[39;00m \u001b[38;5;21;01mEmily_project3_helper\u001b[39;00m \u001b[38;5;28;01mimport\u001b[39;00m \u001b[38;5;241m*\u001b[39m\n\u001b[0;32m      2\u001b[0m shakespeare \u001b[38;5;241m=\u001b[39m \u001b[38;5;28mopen\u001b[39m(\u001b[38;5;124m\"\u001b[39m\u001b[38;5;124mshakespeare.txt\u001b[39m\u001b[38;5;124m\"\u001b[39m, \u001b[38;5;124m\"\u001b[39m\u001b[38;5;124mr\u001b[39m\u001b[38;5;124m\"\u001b[39m)\u001b[38;5;241m.\u001b[39mread()\n",
      "File \u001b[1;32md:\\caltech\\cs155\\project3\\Emily_project3_helper.py:2\u001b[0m\n\u001b[0;32m      1\u001b[0m \u001b[38;5;28;01mimport\u001b[39;00m \u001b[38;5;21;01mnumpy\u001b[39;00m \u001b[38;5;28;01mas\u001b[39;00m \u001b[38;5;21;01mnp\u001b[39;00m\n\u001b[1;32m----> 2\u001b[0m \u001b[38;5;28;01mimport\u001b[39;00m \u001b[38;5;21;01mmatplotlib\u001b[39;00m\u001b[38;5;21;01m.\u001b[39;00m\u001b[38;5;21;01mpyplot\u001b[39;00m \u001b[38;5;28;01mas\u001b[39;00m \u001b[38;5;21;01mplt\u001b[39;00m\n\u001b[0;32m      3\u001b[0m \u001b[38;5;28;01mfrom\u001b[39;00m \u001b[38;5;21;01mwordcloud\u001b[39;00m \u001b[38;5;28;01mimport\u001b[39;00m WordCloud\n\u001b[0;32m      4\u001b[0m \u001b[38;5;28;01mfrom\u001b[39;00m \u001b[38;5;21;01mmatplotlib\u001b[39;00m \u001b[38;5;28;01mimport\u001b[39;00m animation\n",
      "File \u001b[1;32mc:\\Users\\gavin\\AppData\\Local\\Programs\\Python\\Python311\\Lib\\site-packages\\matplotlib\\pyplot.py:59\u001b[0m\n\u001b[0;32m     57\u001b[0m \u001b[38;5;28;01mimport\u001b[39;00m \u001b[38;5;21;01mmatplotlib\u001b[39;00m\u001b[38;5;21;01m.\u001b[39;00m\u001b[38;5;21;01mimage\u001b[39;00m\n\u001b[0;32m     58\u001b[0m \u001b[38;5;28;01mfrom\u001b[39;00m \u001b[38;5;21;01mmatplotlib\u001b[39;00m \u001b[38;5;28;01mimport\u001b[39;00m _api\n\u001b[1;32m---> 59\u001b[0m \u001b[38;5;28;01mfrom\u001b[39;00m \u001b[38;5;21;01mmatplotlib\u001b[39;00m \u001b[38;5;28;01mimport\u001b[39;00m (  \u001b[38;5;66;03m# Re-exported for typing.\u001b[39;00m\n\u001b[0;32m     60\u001b[0m     cm \u001b[38;5;28;01mas\u001b[39;00m cm, get_backend \u001b[38;5;28;01mas\u001b[39;00m get_backend, rcParams \u001b[38;5;28;01mas\u001b[39;00m rcParams, style \u001b[38;5;28;01mas\u001b[39;00m style)\n\u001b[0;32m     61\u001b[0m \u001b[38;5;28;01mfrom\u001b[39;00m \u001b[38;5;21;01mmatplotlib\u001b[39;00m \u001b[38;5;28;01mimport\u001b[39;00m _pylab_helpers, interactive\n\u001b[0;32m     62\u001b[0m \u001b[38;5;28;01mfrom\u001b[39;00m \u001b[38;5;21;01mmatplotlib\u001b[39;00m \u001b[38;5;28;01mimport\u001b[39;00m cbook\n",
      "File \u001b[1;32mc:\\Users\\gavin\\AppData\\Local\\Programs\\Python\\Python311\\Lib\\site-packages\\matplotlib\\style\\__init__.py:1\u001b[0m\n\u001b[1;32m----> 1\u001b[0m \u001b[38;5;28;01mfrom\u001b[39;00m \u001b[38;5;21;01m.\u001b[39;00m\u001b[38;5;21;01mcore\u001b[39;00m \u001b[38;5;28;01mimport\u001b[39;00m available, context, library, reload_library, use\n\u001b[0;32m      4\u001b[0m __all__ \u001b[38;5;241m=\u001b[39m [\u001b[38;5;124m\"\u001b[39m\u001b[38;5;124mavailable\u001b[39m\u001b[38;5;124m\"\u001b[39m, \u001b[38;5;124m\"\u001b[39m\u001b[38;5;124mcontext\u001b[39m\u001b[38;5;124m\"\u001b[39m, \u001b[38;5;124m\"\u001b[39m\u001b[38;5;124mlibrary\u001b[39m\u001b[38;5;124m\"\u001b[39m, \u001b[38;5;124m\"\u001b[39m\u001b[38;5;124mreload_library\u001b[39m\u001b[38;5;124m\"\u001b[39m, \u001b[38;5;124m\"\u001b[39m\u001b[38;5;124muse\u001b[39m\u001b[38;5;124m\"\u001b[39m]\n",
      "File \u001b[1;32mc:\\Users\\gavin\\AppData\\Local\\Programs\\Python\\Python311\\Lib\\site-packages\\matplotlib\\style\\core.py:233\u001b[0m\n\u001b[0;32m    228\u001b[0m     \u001b[38;5;28;01mreturn\u001b[39;00m main_dict\n\u001b[0;32m    231\u001b[0m \u001b[38;5;66;03m# Load style library\u001b[39;00m\n\u001b[0;32m    232\u001b[0m \u001b[38;5;66;03m# ==================\u001b[39;00m\n\u001b[1;32m--> 233\u001b[0m _base_library \u001b[38;5;241m=\u001b[39m \u001b[43mread_style_directory\u001b[49m\u001b[43m(\u001b[49m\u001b[43mBASE_LIBRARY_PATH\u001b[49m\u001b[43m)\u001b[49m\n\u001b[0;32m    234\u001b[0m library \u001b[38;5;241m=\u001b[39m {}\n\u001b[0;32m    235\u001b[0m available \u001b[38;5;241m=\u001b[39m []\n",
      "File \u001b[1;32mc:\\Users\\gavin\\AppData\\Local\\Programs\\Python\\Python311\\Lib\\site-packages\\matplotlib\\style\\core.py:211\u001b[0m, in \u001b[0;36mread_style_directory\u001b[1;34m(style_dir)\u001b[0m\n\u001b[0;32m    209\u001b[0m \u001b[38;5;28;01mfor\u001b[39;00m path \u001b[38;5;129;01min\u001b[39;00m Path(style_dir)\u001b[38;5;241m.\u001b[39mglob(\u001b[38;5;124mf\u001b[39m\u001b[38;5;124m\"\u001b[39m\u001b[38;5;124m*.\u001b[39m\u001b[38;5;132;01m{\u001b[39;00mSTYLE_EXTENSION\u001b[38;5;132;01m}\u001b[39;00m\u001b[38;5;124m\"\u001b[39m):\n\u001b[0;32m    210\u001b[0m     \u001b[38;5;28;01mwith\u001b[39;00m warnings\u001b[38;5;241m.\u001b[39mcatch_warnings(record\u001b[38;5;241m=\u001b[39m\u001b[38;5;28;01mTrue\u001b[39;00m) \u001b[38;5;28;01mas\u001b[39;00m warns:\n\u001b[1;32m--> 211\u001b[0m         styles[path\u001b[38;5;241m.\u001b[39mstem] \u001b[38;5;241m=\u001b[39m \u001b[43m_rc_params_in_file\u001b[49m\u001b[43m(\u001b[49m\u001b[43mpath\u001b[49m\u001b[43m)\u001b[49m\n\u001b[0;32m    212\u001b[0m     \u001b[38;5;28;01mfor\u001b[39;00m w \u001b[38;5;129;01min\u001b[39;00m warns:\n\u001b[0;32m    213\u001b[0m         _log\u001b[38;5;241m.\u001b[39mwarning(\u001b[38;5;124m'\u001b[39m\u001b[38;5;124mIn \u001b[39m\u001b[38;5;132;01m%s\u001b[39;00m\u001b[38;5;124m: \u001b[39m\u001b[38;5;132;01m%s\u001b[39;00m\u001b[38;5;124m'\u001b[39m, path, w\u001b[38;5;241m.\u001b[39mmessage)\n",
      "File \u001b[1;32mc:\\Users\\gavin\\AppData\\Local\\Programs\\Python\\Python311\\Lib\\site-packages\\matplotlib\\__init__.py:879\u001b[0m, in \u001b[0;36m_rc_params_in_file\u001b[1;34m(fname, transform, fail_on_error)\u001b[0m\n\u001b[0;32m    877\u001b[0m \u001b[38;5;28;01mimport\u001b[39;00m \u001b[38;5;21;01mmatplotlib\u001b[39;00m \u001b[38;5;28;01mas\u001b[39;00m \u001b[38;5;21;01mmpl\u001b[39;00m\n\u001b[0;32m    878\u001b[0m rc_temp \u001b[38;5;241m=\u001b[39m {}\n\u001b[1;32m--> 879\u001b[0m \u001b[43m\u001b[49m\u001b[38;5;28;43;01mwith\u001b[39;49;00m\u001b[43m \u001b[49m\u001b[43m_open_file_or_url\u001b[49m\u001b[43m(\u001b[49m\u001b[43mfname\u001b[49m\u001b[43m)\u001b[49m\u001b[43m \u001b[49m\u001b[38;5;28;43;01mas\u001b[39;49;00m\u001b[43m \u001b[49m\u001b[43mfd\u001b[49m\u001b[43m:\u001b[49m\n\u001b[0;32m    880\u001b[0m \u001b[43m    \u001b[49m\u001b[38;5;28;43;01mtry\u001b[39;49;00m\u001b[43m:\u001b[49m\n\u001b[0;32m    881\u001b[0m \u001b[43m        \u001b[49m\u001b[38;5;28;43;01mfor\u001b[39;49;00m\u001b[43m \u001b[49m\u001b[43mline_no\u001b[49m\u001b[43m,\u001b[49m\u001b[43m \u001b[49m\u001b[43mline\u001b[49m\u001b[43m \u001b[49m\u001b[38;5;129;43;01min\u001b[39;49;00m\u001b[43m \u001b[49m\u001b[38;5;28;43menumerate\u001b[39;49m\u001b[43m(\u001b[49m\u001b[43mfd\u001b[49m\u001b[43m,\u001b[49m\u001b[43m \u001b[49m\u001b[38;5;241;43m1\u001b[39;49m\u001b[43m)\u001b[49m\u001b[43m:\u001b[49m\n",
      "File \u001b[1;32mc:\\Users\\gavin\\AppData\\Local\\Programs\\Python\\Python311\\Lib\\contextlib.py:137\u001b[0m, in \u001b[0;36m_GeneratorContextManager.__enter__\u001b[1;34m(self)\u001b[0m\n\u001b[0;32m    135\u001b[0m \u001b[38;5;28;01mdel\u001b[39;00m \u001b[38;5;28mself\u001b[39m\u001b[38;5;241m.\u001b[39margs, \u001b[38;5;28mself\u001b[39m\u001b[38;5;241m.\u001b[39mkwds, \u001b[38;5;28mself\u001b[39m\u001b[38;5;241m.\u001b[39mfunc\n\u001b[0;32m    136\u001b[0m \u001b[38;5;28;01mtry\u001b[39;00m:\n\u001b[1;32m--> 137\u001b[0m     \u001b[38;5;28;01mreturn\u001b[39;00m \u001b[38;5;28mnext\u001b[39m(\u001b[38;5;28mself\u001b[39m\u001b[38;5;241m.\u001b[39mgen)\n\u001b[0;32m    138\u001b[0m \u001b[38;5;28;01mexcept\u001b[39;00m \u001b[38;5;167;01mStopIteration\u001b[39;00m:\n\u001b[0;32m    139\u001b[0m     \u001b[38;5;28;01mraise\u001b[39;00m \u001b[38;5;167;01mRuntimeError\u001b[39;00m(\u001b[38;5;124m\"\u001b[39m\u001b[38;5;124mgenerator didn\u001b[39m\u001b[38;5;124m'\u001b[39m\u001b[38;5;124mt yield\u001b[39m\u001b[38;5;124m\"\u001b[39m) \u001b[38;5;28;01mfrom\u001b[39;00m \u001b[38;5;28;01mNone\u001b[39;00m\n",
      "File \u001b[1;32mc:\\Users\\gavin\\AppData\\Local\\Programs\\Python\\Python311\\Lib\\site-packages\\matplotlib\\__init__.py:856\u001b[0m, in \u001b[0;36m_open_file_or_url\u001b[1;34m(fname)\u001b[0m\n\u001b[0;32m    854\u001b[0m \u001b[38;5;28;01melse\u001b[39;00m:\n\u001b[0;32m    855\u001b[0m     fname \u001b[38;5;241m=\u001b[39m os\u001b[38;5;241m.\u001b[39mpath\u001b[38;5;241m.\u001b[39mexpanduser(fname)\n\u001b[1;32m--> 856\u001b[0m     \u001b[38;5;28;01mwith\u001b[39;00m \u001b[38;5;28mopen\u001b[39m(fname, encoding\u001b[38;5;241m=\u001b[39m\u001b[38;5;124m'\u001b[39m\u001b[38;5;124mutf-8\u001b[39m\u001b[38;5;124m'\u001b[39m) \u001b[38;5;28;01mas\u001b[39;00m f:\n\u001b[0;32m    857\u001b[0m         \u001b[38;5;28;01myield\u001b[39;00m f\n",
      "File \u001b[1;32m<frozen codecs>:309\u001b[0m, in \u001b[0;36m__init__\u001b[1;34m(self, errors)\u001b[0m\n",
      "\u001b[1;31mKeyboardInterrupt\u001b[0m: "
     ]
    }
   ],
   "source": [
    "from Emily_project3_helper import *\n",
    "shakespeare = open(\"shakespeare.txt\", \"r\").read()"
   ]
  },
  {
   "cell_type": "code",
   "execution_count": null,
   "metadata": {},
   "outputs": [
    {
     "name": "stdout",
     "output_type": "stream",
     "text": [
      "[['increase', 'decease'], ['die', 'memory'], ['eyes', 'lies'], ['fuel', 'cruel'], ['ornament', 'content'], ['spring', 'niggarding'], ['be', 'thee'], ['brow', 'now'], ['field', 'held'], ['lies', 'eyes'], ['days', 'praise'], ['use', \"excuse'\"], ['mine', 'thine'], ['old', 'cold'], ['viewest', 'renewest'], ['another', 'mother'], ['womb', 'tomb'], ['husbandry', 'posterity'], ['thee', 'see'], ['prime', 'time'], ['be', 'thee'], ['spend', 'lend'], ['legacy', 'free'], ['abuse', 'use'], ['give', 'live'], ['alone', 'gone'], ['deceive', 'leave'], ['thee', 'be'], ['frame', 'same'], ['dwell', 'excel'], ['on', 'gone'], ['there', 'where'], ['left', 'bereft'], ['glass', 'was'], ['meet', 'sweet'], ['deface', 'place'], ['distilled', 'selfkilled'], ['usury', 'thee'], ['loan', 'one'], ['art', 'depart'], ['thee', 'posterity'], ['fair', 'heir'], ['light', 'sight'], ['eye', 'majesty'], ['hill', 'still'], ['age', 'pilgrimage'], ['car', 'are'], ['day', 'way'], ['noon', 'son'], ['sadly', 'gladly'], ['joy', 'annoy'], ['sounds', 'confounds'], ['ear', 'bear'], ['another', 'mother'], ['ordering', 'sing'], ['one', \"none'\"], ['eye', 'die'], ['life', 'wife'], ['weep', 'keep'], ['behind', 'mind'], ['spend', 'end'], ['it', 'it'], ['sits', 'commits'], ['any', 'many'], ['unprovident', 'evident'], ['hate', 'ruinate'], ['conspire', 'desire'], ['mind', 'kind'], ['love', 'prove'], ['me', 'thee'], [\"grow'st\", \"bestow'st\"], ['departest', 'convertest'], ['increase', 'cease'], ['decay', 'away'], ['store', 'more'], ['perish', 'cherish'], ['thereby', 'die'], ['time', 'prime'], ['night', 'white'], ['leaves', 'sheaves'], ['herd', 'beard'], ['make', 'forsake'], ['go', 'grow'], ['defence', 'hence'], ['are', 'prepare'], ['live', 'give'], ['lease', 'decease'], ['were', 'bear'], ['decay', 'day'], ['uphold', 'cold'], ['know', 'so'], ['pluck', 'luck'], ['astronomy', 'quality'], ['tell', 'well'], ['wind', 'find'], ['derive', 'thrive'], ['art', 'convert'], ['prognosticate', 'date'], ['grows', 'shows'], ['moment', 'comment'], ['increase', 'decrease'], ['sky', 'memory'], ['stay', 'decay'], ['sight', 'night'], ['you', 'new'], ['way', 'decay'], ['time', 'rhyme'], ['hours', 'flowers'], ['unset', 'counterfeit'], ['repair', 'fair'], ['pen', 'men'], ['still', 'skill'], ['come', 'tomb'], ['deserts', 'parts'], ['eyes', 'lies'], ['graces', 'faces'], ['age', 'rage'], ['tongue', 'song'], ['time', 'rhyme'], ['day', 'may'], ['temperate', 'date'], ['shines', 'declines'], ['dimmed', 'untrimmed'], ['fade', 'shade'], [\"ow'st\", \"grow'st\"], ['see', 'thee'], ['paws', 'jaws'], ['brood', 'blood'], [\"fleet'st\", 'sweets'], ['time', 'crime'], ['brow', 'allow'], ['pen', 'men'], ['wrong', 'young'], ['painted', 'acquainted'], ['passion', 'fashion'], ['rolling', 'controlling'], ['gazeth', 'amazeth'], ['created', 'defeated'], ['adoting', 'nothing'], ['pleasure', 'treasure'], ['muse', 'use'], ['verse', 'rehearse'], ['compare', 'rare'], ['gems', 'hems'], ['write', 'bright'], ['fair', 'air'], ['well', 'sell'], ['old', 'behold'], ['date', 'expiate'], ['thee', 'me'], ['heart', 'art'], ['wary', 'chary'], ['will', 'ill'], ['slain', 'again'], ['stage', 'rage'], ['part', 'heart'], ['say', 'decay'], ['rite', 'might'], ['eloquence', 'recompense'], ['breast', 'expressed'], ['writ', 'wit'], ['stelled', 'held'], ['heart', 'art'], ['skill', 'still'], ['lies', 'eyes'], ['done', 'sun'], ['me', 'thee'], ['art', 'heart'], ['stars', 'bars'], ['boast', 'most'], ['spread', 'buried'], ['eye', 'die'], ['fight', 'quite'], ['foiled', 'toiled'], ['beloved', 'removed'], ['vassalage', 'embassage'], ['knit', 'wit'], ['mine', 'thine'], ['it', 'it'], ['moving', 'loving'], ['aspect', 'respect'], ['thee', 'me'], ['bed', 'head'], ['tired', 'expired'], ['abide', 'wide'], ['thee', 'see'], ['sight', 'night'], ['view', 'new'], ['mind', 'find'], ['plight', 'night'], ['rest', 'oppressed'], ['reign', 'complain'], ['me', 'thee'], ['bright', 'night'], ['heaven', 'even'], ['longer', 'stronger'], ['eyes', 'cries'], ['state', 'fate'], ['hope', 'scope'], ['possessed', 'least'], ['despising', 'arising'], ['state', 'gate'], ['brings', 'kings'], ['thought', 'sought'], ['past', 'waste'], ['flow', 'woe'], ['night', 'sight'], ['foregone', 'moan'], [\"o'er\", 'before'], ['friend', 'end'], ['hearts', 'parts'], ['dead', 'buried'], ['tear', 'appear'], ['eye', 'lie'], ['live', 'give'], ['gone', 'alone'], ['thee', 'me'], ['day', 'resurvey'], ['cover', 'lover'], ['time', 'rhyme'], ['pen', 'men'], ['thought', 'brought'], ['age', 'equipage'], ['prove', \"love'\"], ['seen', 'green'], ['eye', 'alchemy'], ['ride', 'hide'], ['face', 'disgrace'], ['shine', 'mine'], ['brow', 'now'], ['disdaineth', 'staineth'], ['day', 'way'], ['cloak', 'smoke'], ['break', 'speak'], ['face', 'disgrace'], ['grief', 'relief'], ['loss', 'cross'], ['sheds', 'deeds'], ['done', 'sun'], ['mud', 'bud'], ['this', 'amiss'], ['compare', 'are'], ['sense', 'commence'], ['advocate', 'hate'], ['be', 'me'], ['twain', 'remain'], ['one', 'alone'], ['respect', 'effect'], ['spite', 'delight'], ['thee', 'me'], ['shame', 'name'], ['sort', 'report'], ['delight', 'spite'], ['youth', 'truth'], ['wit', 'sit'], ['more', 'store'], ['despised', 'sufficed'], ['give', 'live'], ['thee', 'me'], ['invent', 'excellent'], ['verse', 'rehearse'], ['me', 'thee'], ['sight', 'light'], ['worth', 'forth'], ['invocate', 'date'], ['days', 'praise'], ['sing', 'bring'], ['me', 'thee'], ['live', 'give'], ['one', 'alone'], ['prove', 'love'], ['leave', 'deceive'], ['twain', 'remain'], ['all', 'call'], ['before', 'more'], ['receivest', 'deceivest'], ['usest', 'refusest'], ['thief', 'grief'], ['poverty', 'injury'], ['shows', 'foes'], ['commits', 'befits'], ['heart', 'art'], ['won', 'son'], ['assailed', 'prevailed'], ['forbear', 'there'], ['youth', 'truth'], ['thee', 'me'], ['grief', 'chief'], ['dearly', 'nearly'], ['ye', 'me'], ['her', 'her'], ['gain', 'twain'], ['loss', 'cross'], ['one', 'alone'], ['see', 'thee'], ['unrespected', 'directed'], ['bright', 'light'], ['show', 'so'], ['made', 'shade'], ['day', 'stay'], ['thee', 'me'], ['thought', 'brought'], ['way', 'stay'], ['stand', 'land'], ['thee', 'be'], ['thought', 'wrought'], ['gone', 'moan'], ['slow', 'woe'], ['fire', 'desire'], ['abide', 'slide'], ['gone', 'alone'], ['thee', 'melancholy'], ['recured', 'assured'], ['thee', 'me'], ['glad', 'sad'], ['war', 'bar'], ['sight', 'right'], ['lie', 'deny'], ['eyes', 'lies'], ['impanelled', 'determined'], ['heart', 'part'], ['part', 'heart'], ['took', 'look'], ['other', 'smother'], ['feast', 'guest'], ['heart', 'part'], ['love', 'move'], ['me', 'thee'], ['sight', 'delight'], ['way', 'stay'], ['thrust', 'trust'], ['are', 'care'], ['grief', 'thief'], ['chest', 'breast'], ['art', 'part'], ['fear', 'dear'], ['come', 'sum'], ['defects', 'respects'], ['pass', 'was'], ['eye', 'gravity'], ['here', 'uprear'], ['desert', 'part'], ['laws', 'cause'], ['way', 'say'], ['end', \"friend'\"], ['woe', 'know'], ['me', 'thee'], ['on', 'groan'], ['hide', 'side'], ['mind', 'behind'], ['offence', 'thence'], ['speed', 'need'], ['find', 'wind'], ['slow', 'know'], ['pace', 'race'], ['made', 'jade'], ['wilfulslow', 'go'], ['key', 'survey'], ['treasure', 'pleasure'], ['rare', 'are'], ['set', 'carcanet'], ['chest', 'specialblest'], ['hide', 'pride'], ['scope', 'hope'], ['made', 'shade'], ['tend', 'lend'], ['counterfeit', 'set'], ['you', 'new'], ['year', 'appear'], ['show', 'know'], ['part', 'heart'], ['seem', 'deem'], ['give', 'live'], ['dye', 'wantonly'], ['roses', 'discloses'], ['show', 'so'], ['fade', 'made'], ['youth', 'truth'], ['monuments', 'contents'], ['rhyme', 'time'], ['overturn', 'burn'], ['masonry', 'memory'], ['enmity', 'posterity'], ['room', 'doom'], ['arise', 'eyes'], ['said', 'allayed'], ['appetite', 'might'], ['fill', 'kill'], ['fulness', 'dulness'], ['be', 'see'], ['new', 'view'], ['care', 'rare'], ['tend', 'spend'], ['desire', 'require'], ['hour', 'sour'], ['you', 'adieu'], ['thought', 'nought'], ['suppose', 'those'], ['will', 'ill'], ['slave', 'crave'], ['pleasure', 'leisure'], ['beck', 'check'], ['liberty', 'injury'], ['strong', 'belong'], ['time', 'crime'], ['hell', 'well'], ['is', 'amis'], ['beguiled', 'child'], ['look', 'book'], ['sun', 'done'], ['say', 'they'], ['frame', 'same'], ['days', 'praise'], ['shore', 'before'], ['end', 'contend'], ['light', 'fight'], ['crowned', 'confound'], ['youth', 'truth'], ['brow', 'mow'], ['stand', 'hand'], ['open', 'broken'], ['night', 'sight'], ['thee', 'me'], ['pry', 'jealousy'], ['great', 'defeat'], ['awake', 'sake'], ['elsewhere', 'near'], ['eye', 'remedy'], ['part', 'heart'], ['mine', 'define'], ['account', 'surmount'], ['indeed', 'read'], ['antiquity', 'iniquity'], ['praise', 'days'], ['now', 'brow'], [\"o'erworn\", 'morn'], ['night', 'sight'], ['king', 'spring'], ['fortify', 'memory'], ['knife', 'life'], ['seen', 'green'], ['defaced', 'downrased'], ['age', 'rage'], ['gain', 'main'], ['shore', 'store'], ['state', 'ruminate'], ['decay', 'away'], ['choose', 'lose'], ['sea', 'plea'], ['power', 'flower'], ['out', 'stout'], ['days', 'decays'], ['alack', 'back'], ['hid', 'forbid'], ['might', 'bright'], ['cry', 'jollity'], ['born', 'forsworn'], ['misplaced', 'disgraced'], ['strumpeted', 'disabled'], ['authority', 'simplicity'], ['skill', 'ill'], ['gone', 'alone'], ['live', 'achieve'], ['impiety', 'society'], ['cheek', 'seek'], ['hue', 'true'], ['is', 'his'], ['veins', 'gains'], ['had', 'bad'], ['outworn', 'born'], ['now', 'brow'], ['dead', 'head'], ['away', 'gay'], ['seen', 'green'], ['true', 'new'], ['store', 'yore'], ['view', 'due'], ['mend', 'commend'], ['crowned', 'confound'], ['own', 'shown'], ['mind', 'kind'], ['deeds', 'weeds'], ['show', 'grow'], ['defect', 'suspect'], ['fair', 'air'], ['approve', 'love'], ['time', 'prime'], ['days', 'praise'], ['charged', 'enlarged'], ['show', 'owe'], ['dead', 'fled'], ['bell', 'dwell'], ['not', 'forgot'], ['so', 'woe'], ['verse', 'rehearse'], ['clay', 'decay'], ['moan', 'gone'], ['recite', 'quite'], ['love', 'prove'], ['lie', 'i'], ['desert', 'impart'], ['this', 'is'], ['untrue', 'you'], ['forth', 'worth'], ['behold', 'cold'], ['hang', 'sang'], ['day', 'away'], ['west', 'rest'], ['fire', 'expire'], ['lie', 'by'], ['strong', 'long'], ['arrest', 'interest'], ['away', 'stay'], ['review', 'due'], ['thee', 'me'], ['life', 'knife'], ['dead', 'remembered'], ['contains', 'remains'], ['life', 'strife'], ['ground', 'found'], ['anon', 'alone'], ['treasure', 'pleasure'], ['sight', 'delight'], ['look', 'took'], ['day', 'away'], ['pride', 'aside'], ['change', 'strange'], ['same', 'name'], ['weed', 'proceed'], ['you', 'new'], ['argument', 'spent'], ['old', 'told'], ['wear', 'bear'], ['waste', 'taste'], ['show', 'know'], ['memory', 'eternity'], ['contain', 'brain'], ['find', 'mind'], ['look', 'book'], ['muse', 'use'], ['verse', 'disperse'], ['sing', 'wing'], ['fly', 'majesty'], ['compile', 'style'], ['thee', 'be'], ['advance', 'ignorance'], ['aid', 'decayed'], ['grace', 'place'], ['argument', 'invent'], ['pen', 'again'], ['word', 'afford'], ['give', 'live'], ['say', 'pay'], ['write', 'might'], ['name', 'fame'], ['is', 'his'], ['bear', 'appear'], ['afloat', 'boat'], ['ride', 'pride'], ['away', 'decay'], ['make', 'take'], ['rotten', 'forgotten'], ['have', 'grave'], ['die', 'lie'], ['verse', 'rehearse'], [\"o'erread\", 'dead'], ['pen', 'men'], ['muse', 'use'], [\"o'erlook\", 'book'], ['hue', 'anew'], ['praise', 'days'], ['devised', 'sympathized'], ['lend', 'friend'], ['used', 'abused'], ['need', 'exceed'], ['set', 'debt'], ['report', 'short'], ['show', 'grow'], ['impute', 'mute'], ['dumb', 'tomb'], ['eyes', 'devise'], ['more', 'store'], ['you', 'grew'], ['dwell', 'tell'], ['glory', 'story'], ['writ', 'wit'], ['clear', 'where'], ['curse', 'worse'], ['still', 'quill'], ['compiled', 'filed'], ['words', 'affords'], ['amen', 'pen'], ['true', 'you'], ['more', 'before'], ['respect', 'effect'], ['verse', 'inhearse'], ['you', 'grew'], ['write', 'night'], ['dead', 'astonished'], ['ghost', 'boast'], ['intelligence', 'thence'], ['line', 'mine'], ['possessing', 'releasing'], ['estimate', 'determinate'], ['granting', 'wanting'], ['deserving', 'swerving'], ['knowing', 'growing'], ['mistaking', 'making'], ['flatter', 'matter'], ['light', 'fight'], ['scorn', 'forsworn'], ['acquainted', 'attainted'], ['story', 'glory'], ['too', 'do'], ['thee', 'me'], ['belong', 'wrong'], ['fault', 'halt'], ['offence', 'defence'], ['ill', 'will'], ['change', 'strange'], ['tongue', 'wronk'], ['dwell', 'tell'], ['debate', 'hate'], ['now', 'bow'], ['cross', 'afterloss'], ['sorrow', 'morrow'], ['woe', 'overthrow'], ['last', 'taste'], ['spite', 'might'], ['woe', 'so'], ['skill', 'ill'], ['force', 'horse'], ['pleasure', 'measure'], ['rest', 'best'], ['me', 'be'], ['costs', 'boast'], ['take', 'make'], ['away', 'stay'], ['mine', 'thine'], ['wrongs', 'belongs'], ['end', 'depend'], ['mind', 'find'], ['lie', 'die'], ['blot', 'not'], ['true', 'new'], ['face', 'place'], ['eye', 'history'], ['change', 'strange'], ['decree', 'be'], ['dwell', 'tell'], ['grow', 'show'], ['none', 'stone'], ['show', 'slow'], ['graces', 'faces'], ['expense', 'excellence'], ['sweet', 'meet'], ['die', 'dignity'], ['deeds', 'weeds'], ['shame', 'name'], ['rose', 'enclose'], ['days', 'praise'], ['sport', 'report'], ['got', 'blot'], ['thee', 'see'], ['privilege', 'edge'], ['wantonness', 'less'], ['sport', 'resort'], ['queen', 'seen'], ['esteemed', 'deemed'], ['betray', 'away'], ['translate', 'state'], ['sort', 'report'], ['been', 'seen'], ['year', 'everywhere'], ['time', 'prime'], ['increase', 'decease'], ['me', 'thee'], ['fruit', 'mute'], ['cheer', 'near'], ['spring', 'thing'], ['trim', 'him'], ['smell', 'tell'], ['hue', 'grew'], ['white', 'delight'], ['rose', 'those'], ['away', 'play'], ['long', 'song'], ['might', 'light'], ['redeem', 'esteem'], ['spent', 'argument'], ['survey', 'decay'], ['there', 'everywhere'], ['life', 'knife'], ['amends', 'depends'], ['dyed', 'dignified'], ['say', 'lay'], ['fixed', \"intermixed'\"], ['dumb', 'tomb'], ['thee', 'be'], ['how', 'now'], ['seeming', 'esteeming'], ['appear', 'where'], ['spring', 'sing'], ['lays', 'days'], ['now', 'bough'], ['night', 'delight'], ['tongue', 'song'], ['forth', 'worth'], ['pride', 'beside'], ['write', 'quite'], ['face', 'disgrace'], ['mend', 'tend'], ['well', 'tell'], ['sit', 'it'], ['old', 'cold'], ['eyed', 'pride'], ['turned', 'burned'], ['seen', 'green'], ['hand', 'stand'], ['perceived', 'deceived'], ['unbred', 'dead'], ['idolatry', 'be'], ['show', 'so'], ['kind', 'confined'], ['excellence', 'difference'], ['argument', 'spent'], ['words', 'affords'], ['alone', 'one'], ['time', 'rhyme'], ['wights', 'knights'], ['best', 'expressed'], ['brow', 'now'], ['prophecies', 'eyes'], ['prefiguring', 'sing'], ['days', 'praise'], ['soul', 'control'], ['come', 'doom'], ['endured', 'assured'], ['presage', 'age'], ['time', 'rhyme'], ['subscribes', 'tribes'], ['monument', 'spent'], ['character', 'register'], ['spirit', 'merit'], ['divine', 'thine'], ['same', 'name'], ['case', 'place'], ['age', 'page'], ['bred', 'dead'], ['heart', 'depart'], ['qualify', 'lie'], ['ranged', 'exchanged'], ['again', 'stain'], ['reigned', 'stained'], ['blood', 'good'], ['call', 'all'], ['there', 'dear'], ['view', 'new'], ['truth', 'youth'], ['above', 'love'], ['end', 'friend'], ['grind', 'confined'], ['best', 'breast'], ['chide', 'provide'], ['deeds', 'breeds'], ['brand', 'hand'], ['subdued', 'renewed'], ['drink', 'think'], ['infection', 'correction'], ['ye', 'me'], ['fill', 'ill'], ['brow', 'allow'], ['strive', 'alive'], ['tongue', 'wrong'], ['care', 'are'], ['sense', 'dispense'], ['bred', 'dead'], ['mind', 'blind'], ['about', 'out'], ['heart', 'part'], ['latch', 'catch'], ['sight', 'night'], ['creature', 'feature'], ['you', 'untrue'], ['you', 'true'], ['flattery', 'alchemy'], ['indigest', 'best'], ['resemble', 'assemble'], ['seeing', \"'greeing\"], ['up', 'cup'], ['sin', 'begin'], ['lie', 'why'], ['dearer', 'clearer'], ['accidents', 'intents'], ['kings', 'things'], ['tyranny', 'incertainty'], [\"best'\", 'rest'], ['so', 'grow'], ['minds', 'finds'], ['love', 'remove'], ['mark', 'bark'], ['shaken', 'taken'], ['cheeks', 'weeks'], ['come', 'doom'], ['proved', 'loved'], ['all', 'call'], ['repay', 'day'], ['minds', 'winds'], ['right', 'sight'], ['down', 'frown'], ['accumulate', 'hate'], ['prove', 'love'], ['keen', 'unseen'], ['urge', 'purge'], ['sweetness', 'meetness'], ['feeding', 'needing'], ['anticipate', 'state'], ['assured', 'cured'], ['true', 'you'], ['tears', 'fears'], ['within', 'win'], ['committed', 'fitted'], ['never', 'fever'], ['true', 'anew'], ['better', 'greater'], ['content', 'spent'], ['now', 'bow'], ['feel', 'steel'], ['shaken', 'taken'], ['time', 'crime'], ['remembered', 'tendered'], ['hits', 'fits'], ['fee', 'me'], ['esteemed', 'deemed'], ['being', 'seeing'], ['eyes', 'spies'], ['blood', 'good'], ['level', 'bevel'], ['own', 'shown'], ['maintain', 'reign'], ['brain', 'remain'], ['memory', 'eternity'], ['heart', 'part'], ['subsist', 'missed'], ['hold', 'bold'], ['score', 'more'], ['thee', 'me'], ['change', 'strange'], ['might', 'sight'], ['admire', 'desire'], ['old', 'told'], ['defy', 'lie'], ['past', 'haste'], ['be', 'thee'], ['state', 'hate'], ['unfathered', 'gathered'], ['accident', 'discontent'], ['falls', 'calls'], ['heretic', 'politic'], ['hours', 'showers'], ['time', 'crime'], ['canopy', 'eternity'], ['honouring', 'ruining'], ['favour', 'savour'], ['rent', 'spent'], ['heart', 'art'], ['free', 'thee'], ['soul', 'control'], ['fair', 'heir'], ['name', 'shame'], ['power', 'bower'], ['face', 'disgrace'], ['black', 'lack'], ['seem', 'esteem'], ['woe', 'so'], [\"play'st\", \"sway'st\"], ['sounds', 'confounds'], ['leap', 'reap'], ['hand', 'stand'], ['state', 'gait'], ['chips', 'lips'], ['this', 'kiss'], ['shame', 'blame'], ['lust', 'trust'], ['straight', 'bait'], ['had', 'mad'], ['so', 'woe'], ['extreme', 'dream'], ['well', 'hell'], ['sun', 'dun'], ['red', 'head'], ['white', 'delight'], ['cheeks', 'reeks'], ['know', 'go'], ['sound', 'ground'], ['rare', 'compare'], ['art', 'heart'], ['cruel', 'jewel'], ['behold', 'bold'], ['groan', 'alone'], ['swear', 'bear'], ['face', 'place'], ['deeds', 'proceeds'], ['me', 'be'], ['disdain', 'pain'], ['heaven', 'even'], ['east', 'west'], ['face', 'grace'], ['heart', 'part'], ['black', 'lack'], ['groan', 'alone'], ['me', 'be'], ['taken', 'forsaken'], ['engrossed', 'crossed'], ['ward', 'guard'], ['bail', 'gaol'], ['thee', 'me'], ['thine', 'mine'], ['will', 'still'], ['free', 'me'], ['kind', 'bind'], ['take', 'sake'], ['use', 'abuse'], ['me', 'free'], ['will', 'still'], ['overplus', 'thus'], ['spacious', 'gracious'], ['thine', 'shine'], ['still', 'will'], ['store', 'more'], ['kill', \"'will'\"], ['near', 'there'], [\"'will'\", 'fulfil'], ['love', 'prove'], ['one', 'none'], ['untold', 'hold'], ['be', 'thee'], ['still', 'will'], ['eyes', 'lies'], ['see', 'be'], ['looks', 'hooks'], ['ride', 'tied'], ['plot', 'not'], ['place', 'face'], ['erred', 'transferred'], ['truth', 'youth'], ['lies', 'subtleties'], ['young', 'tongue'], ['best', 'suppressed'], ['unjust', 'trust'], ['old', 'told'], ['me', 'be'], ['wrong', 'tongue'], ['heart', 'art'], ['sight', 'might'], ['aside', 'bide'], ['knows', 'foes'], ['enemies', 'injuries'], ['slain', 'pain'], ['press', 'express'], ['disdain', 'pain'], ['were', 'near'], ['so', 'know'], ['mad', 'bad'], ['thee', 'be'], ['belied', 'wide'], ['eyes', 'despise'], ['note', 'dote'], ['delighted', 'invited'], ['prone', 'alone'], ['can', 'man'], ['thee', 'be'], ['gain', 'pain'], ['hate', 'state'], ['loving', 'reproving'], ['thine', 'mine'], ['ornaments', 'rents'], ['those', 'grows'], ['thee', 'be'], ['hide', 'denied'], ['catch', 'dispatch'], ['away', 'stay'], ['chase', 'face'], ['bent', 'discontent'], ['thee', 'me'], ['behind', 'kind'], ['will', 'still'], ['despair', 'fair'], ['still', 'ill'], ['evil', 'devil'], ['side', 'pride'], ['fiend', 'friend'], ['tell', 'hell'], ['doubt', 'out'], ['make', 'sake'], [\"hate'\", 'state'], ['come', 'doom'], ['sweet', 'greet'], ['end', 'fiend'], ['day', 'away'], ['threw', \"you'\"], ['earth', 'dearth'], ['array', 'gay'], ['lease', 'excess'], ['spend', 'end'], ['loss', 'dross'], ['store', 'more'], ['men', 'then'], ['still', 'ill'], ['disease', 'please'], ['love', 'approve'], ['kept', 'except'], ['care', 'are'], ['unrest', 'expressed'], ['bright', 'night'], ['head', 'fled'], ['sight', 'aright'], ['dote', 'denote'], ['so', 'no'], ['true', 'view'], ['tears', 'clears'], ['blind', 'find'], ['not', 'forgot'], ['partake', 'sake'], ['friend', 'spend'], ['upon', 'moan'], ['respect', 'defect'], ['despise', 'eyes'], ['mind', 'blind'], ['might', 'sight'], ['sway', 'day'], ['ill', 'skill'], ['deeds', 'exceeds'], ['more', 'abhor'], ['hate', 'state'], ['me', 'thee'], ['is', 'amiss'], ['love', 'prove'], ['betray', 'may'], ['treason', 'reason'], ['thee', 'be'], ['pride', 'side'], ['call', 'fall'], ['forsworn', 'torn'], ['swearing', 'bearing'], ['thee', 'thee'], ['most', 'lost'], ['kindness', 'blindness'], ['constancy', 'see'], ['i', 'be'], ['asleep', 'steep'], ['found', 'ground'], ['love', 'prove'], ['endure', 'cure'], ['newfired', 'desired'], ['breast', 'guest'], ['lies', 'eyes'], ['asleep', 'keep'], ['brand', 'hand'], ['fire', 'desire'], ['warmed', 'disarmed'], ['by', 'remedy'], ['perpetual', 'thrall'], ['prove', 'love']]\n"
     ]
    }
   ],
   "source": [
    "reversed_lines_obs, word_map, rhymes = parse_reverse_line_w_rhyme(shakespeare)\n",
    "print(rhymes)"
   ]
  },
  {
   "cell_type": "markdown",
   "metadata": {},
   "source": [
    "### Aside - NLTK-Based Supervised Learning"
   ]
  },
  {
   "cell_type": "code",
   "execution_count": null,
   "metadata": {},
   "outputs": [],
   "source": [
    "# Why not supervised learning?\n",
    "import nltk\n",
    "# nltk.download('averaged_perceptron_tagger')\n",
    "idx_to_word = obs_map_reverser(word_map)\n",
    "tagged_lines = []\n",
    "for line_r in reversed_lines_obs:\n",
    "    line_r.reverse()\n",
    "    line_words = []\n",
    "    for obs in line_r:\n",
    "        line_words.append(idx_to_word.get(obs))\n",
    "    tagged_lines.append(nltk.pos_tag(line_words))\n",
    "\n",
    "reversed_states = []\n",
    "for tagged_line in tagged_lines:\n",
    "    tagged_line.reverse()\n",
    "    reversed_states.append([pair[1] for pair in tagged_line])\n",
    "\n",
    "state_to_idx = {}\n",
    "state_idx = 0\n",
    "for line in reversed_states:\n",
    "    for state in line:\n",
    "        if state_to_idx.get(state) is None:\n",
    "            state_to_idx.update({state: state_idx})\n",
    "            state_idx += 1\n",
    "\n",
    "reversed_states_num = []\n",
    "for line in reversed_states:\n",
    "    reversed_states_num.append([state_to_idx.get(state) for state in line])"
   ]
  },
  {
   "cell_type": "code",
   "execution_count": null,
   "metadata": {},
   "outputs": [
    {
     "name": "stdout",
     "output_type": "stream",
     "text": [
      "epoch 1/3\n",
      "epoch 2/3\n",
      "epoch 3/3\n",
      "Epoch: 0\n",
      "Epoch: 10\n",
      "Epoch: 20\n",
      "Epoch: 30\n"
     ]
    },
    {
     "ename": "KeyboardInterrupt",
     "evalue": "",
     "output_type": "error",
     "traceback": [
      "\u001b[1;31m---------------------------------------------------------------------------\u001b[0m",
      "\u001b[1;31mKeyboardInterrupt\u001b[0m                         Traceback (most recent call last)",
      "Cell \u001b[1;32mIn[61], line 5\u001b[0m\n\u001b[0;32m      2\u001b[0m half_supervised_HMM \u001b[38;5;241m=\u001b[39m supervised_HMM(X\u001b[38;5;241m=\u001b[39mreversed_lines_obs, Y\u001b[38;5;241m=\u001b[39mreversed_states_num)\n\u001b[0;32m      3\u001b[0m half_supervised_HMM\u001b[38;5;241m.\u001b[39munsupervised_learning(reversed_lines_obs, \u001b[38;5;241m3\u001b[39m)\n\u001b[1;32m----> 5\u001b[0m hmm_rhyme_15_hidden \u001b[38;5;241m=\u001b[39m \u001b[43munsupervised_HMM\u001b[49m\u001b[43m(\u001b[49m\u001b[43mreversed_lines_obs\u001b[49m\u001b[43m,\u001b[49m\u001b[43m \u001b[49m\u001b[38;5;241;43m15\u001b[39;49m\u001b[43m,\u001b[49m\u001b[43m \u001b[49m\u001b[38;5;241;43m100\u001b[39;49m\u001b[43m)\u001b[49m\n",
      "File \u001b[1;32md:\\caltech\\cs155\\project3\\Emily_project3_helper.py:128\u001b[0m, in \u001b[0;36munsupervised_HMM\u001b[1;34m(X, n_states, N_iters, seed)\u001b[0m\n\u001b[0;32m    126\u001b[0m \u001b[38;5;66;03m# Train an HMM with unlabeled data.\u001b[39;00m\n\u001b[0;32m    127\u001b[0m HMM \u001b[38;5;241m=\u001b[39m HiddenMarkovModel(A, O)\n\u001b[1;32m--> 128\u001b[0m \u001b[43mHMM\u001b[49m\u001b[38;5;241;43m.\u001b[39;49m\u001b[43munsupervised_learning\u001b[49m\u001b[43m(\u001b[49m\u001b[43mX\u001b[49m\u001b[43m,\u001b[49m\u001b[43m \u001b[49m\u001b[43mN_iters\u001b[49m\u001b[43m)\u001b[49m\n\u001b[0;32m    130\u001b[0m \u001b[38;5;28;01mreturn\u001b[39;00m HMM\n",
      "File \u001b[1;32md:\\caltech\\cs155\\project3\\Emily_project3_helper.py:71\u001b[0m, in \u001b[0;36mHiddenMarkovModel.unsupervised_learning\u001b[1;34m(self, X, N_iters)\u001b[0m\n\u001b[0;32m     68\u001b[0m         \u001b[38;5;28;01mif\u001b[39;00m seq \u001b[38;5;241m<\u001b[39m M:\n\u001b[0;32m     69\u001b[0m             P_abx \u001b[38;5;241m=\u001b[39m np\u001b[38;5;241m.\u001b[39marray([[alphas[seq][a] \u001b[38;5;241m*\u001b[39m \u001b[38;5;28mself\u001b[39m\u001b[38;5;241m.\u001b[39mO[b][x[seq]] \u001b[38;5;241m*\u001b[39m \u001b[38;5;28mself\u001b[39m\u001b[38;5;241m.\u001b[39mA[a][b] \u001b[38;5;241m*\u001b[39m betas[seq\u001b[38;5;241m+\u001b[39m\u001b[38;5;241m1\u001b[39m][b] \\\n\u001b[0;32m     70\u001b[0m                               \u001b[38;5;28;01mfor\u001b[39;00m b \u001b[38;5;129;01min\u001b[39;00m \u001b[38;5;28mrange\u001b[39m(\u001b[38;5;28mself\u001b[39m\u001b[38;5;241m.\u001b[39mL)] \u001b[38;5;28;01mfor\u001b[39;00m a \u001b[38;5;129;01min\u001b[39;00m \u001b[38;5;28mrange\u001b[39m(\u001b[38;5;28mself\u001b[39m\u001b[38;5;241m.\u001b[39mL)])\n\u001b[1;32m---> 71\u001b[0m             P_abx \u001b[38;5;241m=\u001b[39m P_abx \u001b[38;5;241m/\u001b[39m \u001b[38;5;28msum\u001b[39m(P_abx\u001b[38;5;241m.\u001b[39mflatten())\n\u001b[0;32m     72\u001b[0m             A_next \u001b[38;5;241m+\u001b[39m\u001b[38;5;241m=\u001b[39m P_abx\n\u001b[0;32m     74\u001b[0m \u001b[38;5;28;01mfor\u001b[39;00m i \u001b[38;5;129;01min\u001b[39;00m \u001b[38;5;28mrange\u001b[39m(\u001b[38;5;28mself\u001b[39m\u001b[38;5;241m.\u001b[39mL):\n",
      "\u001b[1;31mKeyboardInterrupt\u001b[0m: "
     ]
    }
   ],
   "source": [
    "from set6hmm import supervised_HMM\n",
    "half_supervised_HMM = supervised_HMM(X=reversed_lines_obs, Y=reversed_states_num)\n",
    "half_supervised_HMM.unsupervised_learning(reversed_lines_obs, 3)\n",
    "\n",
    "hmm_rhyme_15_hidden = unsupervised_HMM(reversed_lines_obs, 15, 100)"
   ]
  },
  {
   "cell_type": "code",
   "execution_count": null,
   "metadata": {},
   "outputs": [],
   "source": [
    "def get_state(O, obs, L):\n",
    "    prob = [O[i][obs] for i in range(len(O))]\n",
    "    prob = [p/sum(prob) for p in prob]\n",
    "    return np.random.choice(L, p=prob)\n",
    "\n",
    "from poem_utils import parse_syllable_dict, line_syllable_count\n",
    "\n",
    "def get_line_w_ending(hmm, obs_map, end):\n",
    "    obs = obs_map[end]\n",
    "    obs_map_r = obs_map_reverser(obs_map)\n",
    "    init_s = get_state(hmm.O, obs, hmm.L)\n",
    "    states = [init_s]\n",
    "    sentence = [end]\n",
    "    for _ in range(7):\n",
    "        s = np.random.choice(range(hmm.L), p=hmm.A[states[-1]])\n",
    "        states.append(s)\n",
    "        e = np.random.choice(range(hmm.D), p=hmm.O[s])\n",
    "        sentence.append(obs_map_r[e])\n",
    "    return sentence\n",
    "\n",
    "syllable_dict = parse_syllable_dict()\n",
    "\n",
    "def get_line_w_ending_syllables(hmm, obs_map, end, n_syllables=10):\n",
    "    line = get_line_w_ending(hmm, obs_map, end)\n",
    "    while n_syllables not in line_syllable_count(line, syllable_dict):\n",
    "        line = get_line_w_ending(hmm, obs_map, end)\n",
    "    return ' '.join(line).capitalize()\n",
    "\n",
    "def rhyme_sample_sonnet(hmm, obs_map, rhymes, seed=None):\n",
    "    rng = np.random.default_rng(seed=seed)\n",
    "    sonnet = []\n",
    "    for _ in range(3):\n",
    "        r = rng.choice(len(rhymes), 2)\n",
    "        end_words = [rhymes[r[0]][0], rhymes[r[1]][0], rhymes[r[0]][1], rhymes[r[1]][1]]\n",
    "        stanza = [get_line_w_ending_syllables(hmm, obs_map, end) for end in end_words]\n",
    "        stanza.append('\\n')\n",
    "        sonnet.append('\\n'.join(stanza))\n",
    "    rhyme_choice = rng.choice(len(rhymes))\n",
    "    stanza = [get_line_w_ending_syllables(hmm, obs_map, rhymes[rhyme_choice][0]), \n",
    "              get_line_w_ending_syllables(hmm, obs_map, rhymes[rhyme_choice][1])]\n",
    "    sonnet.append('\\n'.join(stanza))\n",
    "    \n",
    "    return '\\n'.join(sonnet)"
   ]
  },
  {
   "cell_type": "code",
   "execution_count": null,
   "metadata": {},
   "outputs": [
    {
     "name": "stdout",
     "output_type": "stream",
     "text": [
      "Part all he tell eyes find memory art\n",
      "Of in this alone he although fair call\n",
      "Thy string will gentle silence the whom heart\n",
      "See assured that false of fears i fall\n",
      "\n",
      "\n",
      "Under or chance my in decay my day\n",
      "I there and come acceptance art of not\n",
      "Bones thee in some beauty whose three away\n",
      "Nothing fair fury but or gain bears forgot\n",
      "\n",
      "\n",
      "Let 'gainst perceiv'st of farthest deep heaven old\n",
      "Nothing kind you compiled not resort two press\n",
      "My hath to yellow should from old behold\n",
      "Hope none often lacked my best thy express\n",
      "\n",
      "\n",
      "The great loving face alter then to foiled\n",
      "Thy pity his and truly new me toiled\n"
     ]
    }
   ],
   "source": [
    "print(rhyme_sample_sonnet(hmm_rhyme_15_hidden, word_map, rhymes))"
   ]
  },
  {
   "cell_type": "code",
   "execution_count": null,
   "metadata": {},
   "outputs": [],
   "source": [
    "wordclouds = states_to_wordclouds(hmm_rhyme_15_hidden, word_map)"
   ]
  },
  {
   "cell_type": "code",
   "execution_count": null,
   "metadata": {},
   "outputs": [
    {
     "name": "stdout",
     "output_type": "stream",
     "text": [
      "Winter's mended and that should love faults gone\n",
      "Dateless of in so tomorrow nay old o'er\n",
      "Not not speak the have so public alone\n",
      "Bear day i mistake was 'tis as before\n",
      "\n",
      "\n",
      "Beauteous bears being lease they that takes lies\n",
      "Did by plague lines chide eternal if here\n",
      "Is sword night as am be and subtleties\n",
      "The or harsh of to being but uprear\n",
      "\n",
      "\n",
      "Sorrow up dulness wronk with side from thee\n",
      "Are beauty judgment hast muse you face state\n",
      "Such it prepare past now why lovely me\n",
      "Cheek that not thy beauties nor belongs fate\n",
      "\n",
      "\n",
      "And yet and their of batt'ring cannot thee\n",
      "I where herd fountains gentle in thy me\n"
     ]
    }
   ],
   "source": [
    "print(rhyme_sample_sonnet(half_supervised_HMM, word_map, rhymes))"
   ]
  }
 ],
 "metadata": {
  "kernelspec": {
   "display_name": "Python 3",
   "language": "python",
   "name": "python3"
  },
  "language_info": {
   "codemirror_mode": {
    "name": "ipython",
    "version": 3
   },
   "file_extension": ".py",
   "mimetype": "text/x-python",
   "name": "python",
   "nbconvert_exporter": "python",
   "pygments_lexer": "ipython3",
   "version": "3.11.2"
  }
 },
 "nbformat": 4,
 "nbformat_minor": 2
}
