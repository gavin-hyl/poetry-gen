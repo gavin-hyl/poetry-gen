{
 "cells": [
  {
   "cell_type": "code",
   "execution_count": 14,
   "metadata": {},
   "outputs": [
    {
     "name": "stdout",
     "output_type": "stream",
     "text": [
      "Start downloading...\n",
      "Complete\n",
      "Start downloading...\n",
      "Complete\n",
      "Start downloading...\n",
      "Complete\n"
     ]
    }
   ],
   "source": [
    "import requests\n",
    "import os\n",
    "import re\n",
    "import random\n",
    "import urllib.request\n",
    "\n",
    "url_dict = {\n",
    "    'shakespeare.txt': 'https://caltech-cs155.s3.us-east-2.amazonaws.com/miniprojects/project3/data/shakespeare.txt',\n",
    "    'spenser.txt': 'https://caltech-cs155.s3.us-east-2.amazonaws.com/miniprojects/project3/data/spenser.txt',\n",
    "    'syllable_dict.txt' : 'https://caltech-cs155.s3.us-east-2.amazonaws.com/miniprojects/project3/data/Syllable_dictionary.txt',\n",
    "    'about_syllable_dict.docx' : 'https://caltech-cs155.s3.us-east-2.amazonaws.com/miniprojects/project3/data/syllable_dict_explanation.docx'\n",
    "}\n",
    "\n",
    "def download_file(file_path):\n",
    "    url = url_dict[file_path]\n",
    "    print('Start downloading...')\n",
    "    with requests.get(url, stream=True) as r:\n",
    "        r.raise_for_status()\n",
    "        with open(file_path, 'wb') as f:\n",
    "            for chunk in r.iter_content(chunk_size=1024 * 1024 * 1024):\n",
    "                f.write(chunk)\n",
    "    print('Complete')\n",
    "\n",
    "download_file('shakespeare.txt')\n",
    "download_file('spenser.txt')\n",
    "download_file('syllable_dict.txt')\n",
    "# download_file('about_syllable_dict.docx')"
   ]
  },
  {
   "cell_type": "code",
   "execution_count": 18,
   "metadata": {},
   "outputs": [],
   "source": [
    "import string\n",
    "import torch\n",
    "import numpy as np\n",
    "\n",
    "shakespeare = open(\"shakespeare.txt\", \"r\").read()\n",
    "chars = set(shakespeare)\n",
    "for i in range(0, 10):\n",
    "    chars.remove(str(i))\n",
    "chars = list(chars)\n",
    "num_chars = len(chars)\n",
    "\n",
    "def letterToIndex(letter):\n",
    "    return chars.index(letter)\n",
    "\n",
    "def charToTensor(char):\n",
    "    tensor = torch.zeros(1, num_chars)\n",
    "    tensor[0][letterToIndex(char)] = 1\n",
    "    return tensor\n",
    "\n",
    "def stringToTensor(line):\n",
    "    tensor = torch.zeros(len(line), 1, num_chars)\n",
    "    for li, letter in enumerate(line):\n",
    "        tensor[li][0][letterToIndex(letter)] = 1\n",
    "    return tensor\n",
    "\n",
    "# Get a list of poem strings\n",
    "def get_poems(txt_file):\n",
    "    with open(txt_file, 'r') as file:\n",
    "        text = file.read()\n",
    "        poem_pattern = r'\\s*(\\d+)\\s*(.*?)\\s*(?=^\\s*\\d+|\\Z)'  # chatGPT\n",
    "        poem_matches = re.findall(poem_pattern, text, re.DOTALL | re.MULTILINE)\n",
    "        poems = []\n",
    "        for match in poem_matches:\n",
    "            poems.append(match[1].strip())\n",
    "        return poems\n",
    "\n",
    "# get all training sequences from poem list\n",
    "def get_training_seqs(poems, seq_length, jump=1): # jump > 1 gives semi-redundant sequences\n",
    "    seqs = []\n",
    "    for poem in poems:\n",
    "        for i in range(0, len(poem), jump):\n",
    "            seq = poem[i:(i + seq_length)]\n",
    "            if len(seq) == seq_length:\n",
    "                seqs.append(seq)\n",
    "    return seqs"
   ]
  },
  {
   "cell_type": "code",
   "execution_count": 19,
   "metadata": {},
   "outputs": [],
   "source": [
    "import torch.nn as nn\n",
    "\n",
    "class LSTM(nn.Module):\n",
    "    def __init__(self, input_size, hidden_size, output_size):\n",
    "        super(LSTM, self).__init__()\n",
    "\n",
    "        self.hidden_size = hidden_size\n",
    "\n",
    "        self.lstm = nn.LSTM(input_size, hidden_size)\n",
    "        self.output = nn.Linear(hidden_size, output_size)\n",
    "\n",
    "    def forward(self, input, hidden):\n",
    "        lstm_out, next_hidden = self.lstm(input, hidden)\n",
    "        out = self.output(lstm_out)\n",
    "        return out, next_hidden\n",
    "\n",
    "    def initHidden(self):\n",
    "        return (torch.zeros(1, self.hidden_size), torch.zeros(1, self.hidden_size))\n",
    "    \n",
    "n_hidden = 150\n",
    "rnn = LSTM(num_chars, n_hidden, num_chars)"
   ]
  },
  {
   "cell_type": "code",
   "execution_count": 20,
   "metadata": {},
   "outputs": [
    {
     "name": "stdout",
     "output_type": "stream",
     "text": [
      "17652\n",
      "41\n"
     ]
    }
   ],
   "source": [
    "poems = get_poems(\"shakespeare.txt\")\n",
    "seqs = get_training_seqs(poems, 40 + 1, 5)\n",
    "\n",
    "print(len(seqs))\n",
    "# print(seqs)\n",
    "print(len(seqs[0]))\n"
   ]
  },
  {
   "cell_type": "code",
   "execution_count": 21,
   "metadata": {},
   "outputs": [],
   "source": [
    "criterion = nn.CrossEntropyLoss()\n",
    "learning_rate = 0.005\n",
    "\n",
    "def train(target_tensor, seq_tensor): # a tensor encoding of sequence and a tensor encoding of target\n",
    "    hidden = rnn.initHidden()\n",
    "\n",
    "    rnn.zero_grad()\n",
    "\n",
    "    loss = 0\n",
    "    for i in range(seq_tensor.size()[0]):\n",
    "        output, hidden = rnn(seq_tensor[i], hidden)\n",
    "        loss += criterion(output, target_tensor[i])\n",
    "\n",
    "    loss.backward()\n",
    "\n",
    "    # Add parameters' gradients to their values, multiplied by learning rate\n",
    "    for p in rnn.parameters():\n",
    "        p.data.add_(p.grad.data, alpha=-learning_rate)\n",
    "\n",
    "    return output, loss.item()/(seq_tensor.size()[0])"
   ]
  },
  {
   "cell_type": "code",
   "execution_count": 24,
   "metadata": {},
   "outputs": [],
   "source": [
    "def get_training_examples(seqs):\n",
    "    training_examples = []\n",
    "    for i in range(len(seqs)):\n",
    "        seq = seqs[i]\n",
    "        training_examples.append([stringToTensor(seq[1:]), stringToTensor(seq[:-1])])\n",
    "\n",
    "    return training_examples"
   ]
  },
  {
   "cell_type": "code",
   "execution_count": 26,
   "metadata": {},
   "outputs": [
    {
     "data": {
      "text/plain": [
       "40"
      ]
     },
     "execution_count": 26,
     "metadata": {},
     "output_type": "execute_result"
    }
   ],
   "source": [
    "e = get_training_examples(seqs)\n",
    "len(e[0][1])"
   ]
  },
  {
   "cell_type": "code",
   "execution_count": 28,
   "metadata": {},
   "outputs": [
    {
     "data": {
      "text/plain": [
       "torch.Size([40, 1, 61])"
      ]
     },
     "execution_count": 28,
     "metadata": {},
     "output_type": "execute_result"
    }
   ],
   "source": [
    "e[0][1].shape"
   ]
  },
  {
   "cell_type": "code",
   "execution_count": 29,
   "metadata": {},
   "outputs": [
    {
     "name": "stdout",
     "output_type": "stream",
     "text": [
      "Loss: 0.32814932250976564\n",
      "Loss: 127.4699542541504\n",
      "Loss: 120.91214770507813\n",
      "Loss: 111.95560955810546\n",
      "Loss: 104.45005043029785\n",
      "Loss: 99.7566339263916\n",
      "Loss: 95.78643901062011\n",
      "Loss: 93.89198983764649\n",
      "Loss: 90.6284475402832\n",
      "Loss: 88.57314700317383\n",
      "Loss: 86.80742671966553\n",
      "Loss: 85.89773063659668\n",
      "Loss: 84.4106527633667\n",
      "Loss: 83.72464883422852\n",
      "Loss: 82.32128421020508\n",
      "Loss: 81.25951706695557\n",
      "Loss: 82.01266906738282\n",
      "Loss: 80.27927707672119\n",
      "Loss: 79.29307904815674\n",
      "Loss: 78.8110531539917\n",
      "Loss: 78.32734867095947\n",
      "Loss: 77.53787435150147\n",
      "Loss: 76.52537425994873\n",
      "Loss: 76.65312667846679\n",
      "Loss: 75.68925746154785\n",
      "Loss: 75.54768267059326\n",
      "Loss: 75.86445253753662\n",
      "Loss: 74.67380071258545\n",
      "Loss: 74.47897387695312\n",
      "Loss: 73.98222520446777\n",
      "Loss: 73.54793988037109\n",
      "Loss: 74.49128606414794\n",
      "Loss: 72.82123526000977\n",
      "Loss: 72.96549674987793\n",
      "Loss: 72.29174949645996\n",
      "Loss: 71.61503945159912\n"
     ]
    }
   ],
   "source": [
    "n_epochs = 1\n",
    "plot_every = 500\n",
    "all_losses = []\n",
    "total_loss = 0 # Reset every ``plot_every`` ``iters``\n",
    "\n",
    "for iter in range(n_epochs):\n",
    "    training_examples = get_training_examples(seqs)\n",
    "    indices = np.random.permutation(len(training_examples))\n",
    "    for i in range(len(indices)):\n",
    "        output, loss = train(training_examples[indices[i]][0], training_examples[indices[i]][1])\n",
    "        total_loss += loss\n",
    "\n",
    "        if i % plot_every == 0:\n",
    "            all_losses.append(total_loss / plot_every)\n",
    "            print(\"Loss: \" + str(total_loss / plot_every))\n",
    "            total_loss = 0\n",
    "            "
   ]
  },
  {
   "cell_type": "code",
   "execution_count": 34,
   "metadata": {},
   "outputs": [
    {
     "data": {
      "text/plain": [
       "[<matplotlib.lines.Line2D at 0x1ab504a1f90>]"
      ]
     },
     "execution_count": 34,
     "metadata": {},
     "output_type": "execute_result"
    },
    {
     "data": {
      "image/png": "[encoded data removed]",
      "text/plain": [
       "<Figure size 640x480 with 1 Axes>"
      ]
     },
     "metadata": {},
     "output_type": "display_data"
    }
   ],
   "source": [
    "import matplotlib.pyplot as plt\n",
    "\n",
    "plt.plot(plot_every * np.arange(len(all_losses) - 1), all_losses[1:])"
   ]
  },
  {
   "cell_type": "code",
   "execution_count": 61,
   "metadata": {},
   "outputs": [],
   "source": [
    "max_length = 1025\n",
    "\n",
    "# Sample from a category and starting letter\n",
    "def sample(start_seed, temperature):\n",
    "    with torch.no_grad():  # no need to track history in sampling\n",
    "        input = stringToTensor(start_seed)\n",
    "        hidden = rnn.initHidden()\n",
    "        h = hidden\n",
    "\n",
    "        output_poem = start_seed\n",
    "\n",
    "        # use seed to set initial hidden values\n",
    "        for i in range(len(start_seed) - 1):\n",
    "            output, h = rnn(input[i], h)\n",
    "            hidden = h\n",
    "\n",
    "        for i in range(max_length - len(start_seed)):\n",
    "            output, hidden = rnn(input[-1], hidden)\n",
    "            output = output[-1] # just get the new character\n",
    "            output = output / temperature\n",
    "            s = nn.Softmax(dim=0)\n",
    "            probs = s(output)\n",
    "            letter = np.random.choice(chars, p=np.array(probs))\n",
    "            output_poem += letter\n",
    "            seq = output_poem[-40:]\n",
    "            input = stringToTensor(seq)\n",
    "\n",
    "        return output_poem"
   ]
  },
  {
   "cell_type": "code",
   "execution_count": 62,
   "metadata": {},
   "outputs": [
    {
     "name": "stdout",
     "output_type": "stream",
     "text": [
      "Shall I compare thee to a summer's day?\n",
      "Ho LaAve tulle sat be the lan I prothloses my true no, To morn cruine:\n",
      "As then grebthang faccest as domm must of the fage\n",
      "Thy all bbact for thou or defake Hormber.\n",
      "For thoum hath their fromme, then bond's trumied cannot but thou whel be thy bloudd,\n",
      "BMiI wrespy stairst orvented diethich still as frimh be the sing,\n",
      "When that though why summers to pruainst then my leace thy be.\n",
      "  Far ming to thou gover thy fairth your If th's given thou ispaind if reswert,\n",
      "Whis nimfin shang as thy though kseet, to hy buk ste,\n",
      "Hanssecting a becush day ceemp uplight, ysuth of tay paised,\n",
      "Beam'st Whore of thy now I Ine thou welf thich his aurest thy must asmen my deaver,\n",
      "Who the ream-st and though thy fongured my seme but miles your trend bucother us taurtthind:\n",
      "And glendes live arnel'st wo he worts of ear not voth didds as thou self his remfat when,\n",
      "Sale that have came chounso nfe may of shage or thou ofr?\n",
      "Thine ark as egar freme thy so doth tiredy fould reaves,\n",
      "Sarme is ever to my refay proi\n"
     ]
    }
   ],
   "source": [
    "start_seed = \"Shall I compare thee to a summer's day?\\n\"\n",
    "output = sample(start_seed, 1)\n",
    "print(output)"
   ]
  },
  {
   "cell_type": "code",
   "execution_count": null,
   "metadata": {},
   "outputs": [],
   "source": []
  }
 ],
 "metadata": {
  "kernelspec": {
   "display_name": "Python 3",
   "language": "python",
   "name": "python3"
  },
  "language_info": {
   "codemirror_mode": {
    "name": "ipython",
    "version": 3
   },
   "file_extension": ".py",
   "mimetype": "text/x-python",
   "name": "python",
   "nbconvert_exporter": "python",
   "pygments_lexer": "ipython3",
   "version": "3.10.11"
  }
 },
 "nbformat": 4,
 "nbformat_minor": 2
}
